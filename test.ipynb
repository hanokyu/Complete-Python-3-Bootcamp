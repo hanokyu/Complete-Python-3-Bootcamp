{
 "cells": [
  {
   "cell_type": "code",
   "execution_count": 2,
   "metadata": {},
   "outputs": [
    {
     "data": {
      "text/plain": [
       "233168"
      ]
     },
     "execution_count": 2,
     "metadata": {},
     "output_type": "execute_result"
    }
   ],
   "source": [
    "sum = 0\n",
    "for num1 in range(0,1000):\n",
    "    if num1 % 3 == 0 or num1 % 5 == 0:\n",
    "        sum = sum + num1\n",
    "sum"
   ]
  },
  {
   "cell_type": "code",
   "execution_count": 7,
   "metadata": {},
   "outputs": [
    {
     "data": {
      "text/plain": [
       "4613732"
      ]
     },
     "execution_count": 7,
     "metadata": {},
     "output_type": "execute_result"
    }
   ],
   "source": [
    "fibo_even_sum = 0\n",
    "fibo = [1,2]\n",
    "while fibo[-1] <= 4000000:\n",
    "    fibo.append(fibo[-1] + fibo[-2])\n",
    "    if fibo[-2] % 2 == 0:\n",
    "        fibo_even_sum = fibo_even_sum + fibo[-2]\n",
    "fibo_even_sum"
   ]
  },
  {
   "cell_type": "code",
   "execution_count": 23,
   "metadata": {},
   "outputs": [
    {
     "data": {
      "text/plain": [
       "1"
      ]
     },
     "execution_count": 23,
     "metadata": {},
     "output_type": "execute_result"
    }
   ],
   "source": [
    "def string_match(a, b):\n",
    "  count = 0\n",
    "  for n in range(len(a) - 1):\n",
    "    for m in range(len(b) - 1):\n",
    "      if a[n:n+2] == b[m:m+2]:\n",
    "        count += 1\n",
    "  return count\n",
    "string_match('he', 'hello')"
   ]
  },
  {
   "cell_type": "code",
   "execution_count": 1,
   "metadata": {},
   "outputs": [
    {
     "data": {
      "text/plain": [
       "False"
      ]
     },
     "execution_count": 1,
     "metadata": {},
     "output_type": "execute_result"
    }
   ],
   "source": [
    "def make_bricks(small, big, goal):\n",
    "  big2 = big + int(small / 5)\n",
    "  small2 = small % 5\n",
    "  \n",
    "  # goal = g1 + 5 * g2\n",
    "  g1 = goal % 5\n",
    "  g2 = int(goal/5)\n",
    "  \n",
    "  if small2 + 5*big2 < goal:\n",
    "    return False\n",
    "  else:\n",
    "    if g1 <= small2 and g2 <= big2:\n",
    "      return True\n",
    "    return False\n",
    "\n",
    "make_bricks(7, 1, 8)"
   ]
  },
  {
   "cell_type": "code",
   "execution_count": 6,
   "metadata": {},
   "outputs": [
    {
     "data": {
      "text/plain": [
       "2"
      ]
     },
     "execution_count": 6,
     "metadata": {},
     "output_type": "execute_result"
    }
   ],
   "source": [
    "b1 = 1 + int(7/5)\n",
    "s2 = 7 % 5\n",
    "s2"
   ]
  },
  {
   "cell_type": "code",
   "execution_count": 2,
   "metadata": {},
   "outputs": [
    {
     "data": {
      "text/plain": [
       "3"
      ]
     },
     "execution_count": 2,
     "metadata": {},
     "output_type": "execute_result"
    }
   ],
   "source": [
    "len([1, 3 ,3])"
   ]
  },
  {
   "cell_type": "code",
   "execution_count": null,
   "metadata": {},
   "outputs": [],
   "source": []
  }
 ],
 "metadata": {
  "kernelspec": {
   "display_name": "Python 3",
   "language": "python",
   "name": "python3"
  },
  "language_info": {
   "codemirror_mode": {
    "name": "ipython",
    "version": 3
   },
   "file_extension": ".py",
   "mimetype": "text/x-python",
   "name": "python",
   "nbconvert_exporter": "python",
   "pygments_lexer": "ipython3",
   "version": "3.8.2"
  }
 },
 "nbformat": 4,
 "nbformat_minor": 4
}
